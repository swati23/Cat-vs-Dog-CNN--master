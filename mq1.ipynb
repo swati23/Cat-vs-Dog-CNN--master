{
 "cells": [
  {
   "cell_type": "code",
   "execution_count": 43,
   "metadata": {},
   "outputs": [],
   "source": [
    "from keras.models import  Sequential\n",
    "from keras.layers import Convolution2D"
   ]
  },
  {
   "cell_type": "code",
   "execution_count": 44,
   "metadata": {},
   "outputs": [],
   "source": [
    "from keras .layers import MaxPooling2D"
   ]
  },
  {
   "cell_type": "code",
   "execution_count": 45,
   "metadata": {},
   "outputs": [],
   "source": [
    "from keras.layers import Flatten"
   ]
  },
  {
   "cell_type": "code",
   "execution_count": 46,
   "metadata": {},
   "outputs": [],
   "source": [
    "from keras.layers import Dense"
   ]
  },
  {
   "cell_type": "markdown",
   "metadata": {},
   "source": [
    "# we are going to make sequential model of single hidden layer by using convolutional 2D"
   ]
  },
  {
   "cell_type": "code",
   "execution_count": 47,
   "metadata": {},
   "outputs": [
    {
     "name": "stderr",
     "output_type": "stream",
     "text": [
      "C:\\Users\\me\\Anaconda3\\lib\\site-packages\\ipykernel_launcher.py:2: UserWarning: Update your `Conv2D` call to the Keras 2 API: `Conv2D(32, (3, 3), input_shape=(64, 64, 3..., activation=\"relu\")`\n",
      "  \n"
     ]
    }
   ],
   "source": [
    "model=Sequential()\n",
    "model.add(Convolution2D(32,3,3,input_shape=(64,64,3),activation='relu'))\n",
    "model.add(MaxPooling2D(pool_size=(2,2)))\n",
    "model.add(Flatten())"
   ]
  },
  {
   "cell_type": "code",
   "execution_count": 48,
   "metadata": {},
   "outputs": [],
   "source": [
    "model.add(Dense(128,activation='relu'))\n",
    "model.add(Dense(1,activation='softmax'))"
   ]
  },
  {
   "cell_type": "code",
   "execution_count": 49,
   "metadata": {},
   "outputs": [],
   "source": [
    "model.compile(optimizer='adam',loss='binary_crossentropy',metrics=['accuracy'])"
   ]
  },
  {
   "cell_type": "markdown",
   "metadata": {},
   "source": [
    "# preprocessing of image dataset\n",
    "each pixel is must lie between (0 to 255).\n",
    "rescaling of data and many other thinngs for faster calculation."
   ]
  },
  {
   "cell_type": "code",
   "execution_count": 50,
   "metadata": {},
   "outputs": [
    {
     "name": "stdout",
     "output_type": "stream",
     "text": [
      "Found 8000 images belonging to 2 classes.\n",
      "Found 2000 images belonging to 2 classes.\n"
     ]
    }
   ],
   "source": [
    "from keras.preprocessing.image import ImageDataGenerator\n",
    "train_data_gen=ImageDataGenerator(rescale=1./255.0,shear_range=0.2,zoom_range=0.2,horizontal_flip=True)\n",
    "test_data_gen=ImageDataGenerator(rescale=1./255.0)\n",
    "trainig_set=train_data_gen.flow_from_directory('Convolutional_Neural_Networks/dataset/training_set',target_size=(64,64),batch_size=32,class_mode='binary')\n",
    "test_set=test_data_gen.flow_from_directory('Convolutional_Neural_Networks/dataset/test_set',target_size=(64,64),batch_size=32,class_mode='binary')"
   ]
  },
  {
   "cell_type": "markdown",
   "metadata": {},
   "source": [
    "fiting your data on neural network( learning of weights of neural network) and testing with tets_set"
   ]
  },
  {
   "cell_type": "code",
   "execution_count": 40,
   "metadata": {},
   "outputs": [
    {
     "name": "stdout",
     "output_type": "stream",
     "text": [
      "Epoch 1/10\n",
      "8000/8000 [==============================] - 1966s 246ms/step - loss: 7.9712 - acc: 0.5000 - val_loss: 7.9681 - val_acc: 0.5002\n",
      "Epoch 2/10\n",
      "8000/8000 [==============================] - 1708s 213ms/step - loss: 7.9712 - acc: 0.5000 - val_loss: 7.9756 - val_acc: 0.4997\n",
      "Epoch 3/10\n",
      "8000/8000 [==============================] - 1556s 194ms/step - loss: 7.9712 - acc: 0.5000 - val_loss: 7.9775 - val_acc: 0.4996\n",
      "Epoch 4/10\n",
      "8000/8000 [==============================] - 71850s 9s/step - loss: 7.9712 - acc: 0.5000 - val_loss: 7.9593 - val_acc: 0.5007\n",
      "Epoch 5/10\n",
      "8000/8000 [==============================] - 1576s 197ms/step - loss: 7.9712 - acc: 0.5000 - val_loss: 7.9756 - val_acc: 0.4997\n",
      "Epoch 6/10\n",
      "8000/8000 [==============================] - 1597s 200ms/step - loss: 7.9712 - acc: 0.5000 - val_loss: 7.9662 - val_acc: 0.5003\n",
      "Epoch 7/10\n",
      "8000/8000 [==============================] - 1640s 205ms/step - loss: 7.9712 - acc: 0.5000 - val_loss: 7.9750 - val_acc: 0.4998\n",
      "Epoch 8/10\n",
      "8000/8000 [==============================] - 1636s 205ms/step - loss: 7.9712 - acc: 0.5000 - val_loss: 7.9662 - val_acc: 0.5003\n",
      "Epoch 9/10\n",
      "8000/8000 [==============================] - 1760s 220ms/step - loss: 7.9712 - acc: 0.5000 - val_loss: 7.9775 - val_acc: 0.4996\n",
      "Epoch 10/10\n",
      "8000/8000 [==============================] - 1600s 200ms/step - loss: 7.9712 - acc: 0.5000 - val_loss: 7.9737 - val_acc: 0.4998\n"
     ]
    },
    {
     "data": {
      "text/plain": [
       "<keras.callbacks.History at 0x1f6c2ac2518>"
      ]
     },
     "execution_count": 40,
     "metadata": {},
     "output_type": "execute_result"
    }
   ],
   "source": [
    "model.fit_generator(trainig_set,steps_per_epoch=8000,epochs=10,validation_data=test_set,validation_steps=800)\n"
   ]
  },
  {
   "cell_type": "markdown",
   "metadata": {},
   "source": [
    "#testing wiith any random image of cat and dog."
   ]
  },
  {
   "cell_type": "code",
   "execution_count": 57,
   "metadata": {},
   "outputs": [
    {
     "name": "stdout",
     "output_type": "stream",
     "text": [
      "cat\n"
     ]
    },
    {
     "name": "stderr",
     "output_type": "stream",
     "text": [
      "C:\\Users\\me\\Anaconda3\\lib\\site-packages\\ipykernel_launcher.py:7: DeprecationWarning: The truth value of an empty array is ambiguous. Returning False, but in future this will result in an error. Use `array.size > 0` to check that an array is not empty.\n",
      "  import sys\n"
     ]
    }
   ],
   "source": [
    "from keras.preprocessing import image\n",
    "test_img=image.load_img(\"cat.4001.jpg\",target_size=(64,64))\n",
    "test_img=image.img_to_array(test_img)\n",
    "test_img=np.expand_dims(test_img,axis=0)\n",
    "result=model.predict(test_img)\n",
    "trainig_set.class_indices\n",
    "if(result[0][0>=0.5]):\n",
    "    prediction='dog'\n",
    "else:\n",
    "    prediction='cat'\n",
    "print(prediction)"
   ]
  },
  {
   "cell_type": "code",
   "execution_count": null,
   "metadata": {},
   "outputs": [],
   "source": []
  }
 ],
 "metadata": {
  "kernelspec": {
   "display_name": "Python 3",
   "language": "python",
   "name": "python3"
  },
  "language_info": {
   "codemirror_mode": {
    "name": "ipython",
    "version": 3
   },
   "file_extension": ".py",
   "mimetype": "text/x-python",
   "name": "python",
   "nbconvert_exporter": "python",
   "pygments_lexer": "ipython3",
   "version": "3.6.5"
  }
 },
 "nbformat": 4,
 "nbformat_minor": 2
}
